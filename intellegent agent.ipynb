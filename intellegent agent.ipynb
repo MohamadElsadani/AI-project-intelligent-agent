{
 "cells": [
  {
   "cell_type": "code",
   "execution_count": 27,
   "id": "ef4ed877",
   "metadata": {
    "scrolled": true
   },
   "outputs": [
    {
     "name": "stdout",
     "output_type": "stream",
     "text": [
      "Preprocessed Data:\n",
      "           Timestamp  Traffic Conditions  Road Closures  \\\n",
      "0  2024/01/01 00:00                   1              0   \n",
      "1  2024/01/01 01:00                   0              0   \n",
      "2  2024/01/01 02:00                   2              1   \n",
      "3  2024/01/01 03:00                   2              0   \n",
      "4  2024/01/01 04:00                   1              0   \n",
      "\n",
      "   Previous Delivery Duration (min)  Fuel Consumption (L)  \\\n",
      "0                               NaN             -0.354405   \n",
      "1                               NaN              1.709663   \n",
      "2                               NaN             -1.042428   \n",
      "3                               NaN             -1.042428   \n",
      "4                               NaN             -0.354405   \n",
      "\n",
      "   Distance to Next Delivery (km)  Estimated Travel Time (min)  \\\n",
      "0                        0.175709                          NaN   \n",
      "1                        0.835029                          NaN   \n",
      "2                        1.164689                          NaN   \n",
      "3                        1.164689                          NaN   \n",
      "4                       -1.802251                          NaN   \n",
      "\n",
      "   Delivery Size (items) Delivery Success  \n",
      "0               0.741858              Yes  \n",
      "1               1.127846              Yes  \n",
      "2               1.513833              Yes  \n",
      "3               0.355870              Yes  \n",
      "4              -0.802094              Yes  \n"
     ]
    },
    {
     "name": "stderr",
     "output_type": "stream",
     "text": [
      "C:\\Users\\m_god\\anaconda3\\Lib\\site-packages\\numpy\\lib\\nanfunctions.py:1215: RuntimeWarning: Mean of empty slice\n",
      "  return np.nanmean(a, axis, out=out, keepdims=keepdims)\n",
      "C:\\Users\\m_god\\anaconda3\\Lib\\site-packages\\numpy\\lib\\nanfunctions.py:1215: RuntimeWarning: Mean of empty slice\n",
      "  return np.nanmean(a, axis, out=out, keepdims=keepdims)\n",
      "C:\\Users\\m_god\\anaconda3\\Lib\\site-packages\\sklearn\\utils\\extmath.py:1051: RuntimeWarning: invalid value encountered in divide\n",
      "  updated_mean = (last_sum + new_sum) / updated_sample_count\n",
      "C:\\Users\\m_god\\anaconda3\\Lib\\site-packages\\sklearn\\utils\\extmath.py:1056: RuntimeWarning: invalid value encountered in divide\n",
      "  T = new_sum / new_sample_count\n",
      "C:\\Users\\m_god\\anaconda3\\Lib\\site-packages\\sklearn\\utils\\extmath.py:1076: RuntimeWarning: invalid value encountered in divide\n",
      "  new_unnormalized_variance -= correction**2 / new_sample_count\n"
     ]
    }
   ],
   "source": [
    "import pandas as pd\n",
    "from sklearn.preprocessing import LabelEncoder, StandardScaler\n",
    "\n",
    "def convert_time_to_minutes(time_str):\n",
    "    try:\n",
    "        # Split the time string (e.g., '27.00:00:00')\n",
    "        parts = time_str.split(\":\")\n",
    "        hours = int(parts[0])\n",
    "        minutes = int(parts[1])\n",
    "        seconds = int(parts[2]) if len(parts) > 2 else 0\n",
    "        total_minutes = hours * 60 + minutes + seconds / 60\n",
    "        return total_minutes\n",
    "    except Exception:\n",
    "        return None  # Return None for invalid values\n",
    "\n",
    "def load_and_preprocess(file_path):\n",
    "    data = pd.read_csv(file_path)\n",
    "\n",
    "    # Convert time-like strings to numeric minutes\n",
    "    data['Previous Delivery Duration (min)'] = data['Previous Delivery Duration (min)'].apply(convert_time_to_minutes)\n",
    "    data['Estimated Travel Time (min)'] = data['Estimated Travel Time (min)'].apply(convert_time_to_minutes)\n",
    "\n",
    "    # Handle missing or invalid values\n",
    "    data['Previous Delivery Duration (min)'].fillna(data['Previous Delivery Duration (min)'].median(), inplace=True)\n",
    "    data['Estimated Travel Time (min)'].fillna(data['Estimated Travel Time (min)'].median(), inplace=True)\n",
    "\n",
    "    # Encode categorical features\n",
    "    label_encoder = LabelEncoder()\n",
    "    data['Traffic Conditions'] = label_encoder.fit_transform(data['Traffic Conditions'])  # Light=0, Moderate=1, Heavy=2\n",
    "    data['Road Closures'] = label_encoder.fit_transform(data['Road Closures'])  # No=0, Yes=1\n",
    "\n",
    "    # Standardize numerical features\n",
    "    scaler = StandardScaler()\n",
    "    numerical_features = ['Previous Delivery Duration (min)', 'Fuel Consumption (L)', \n",
    "                          'Distance to Next Delivery (km)', 'Estimated Travel Time (min)', 'Delivery Size (items)']\n",
    "    data[numerical_features] = scaler.fit_transform(data[numerical_features])\n",
    "\n",
    "    return data\n",
    "\n",
    "file_path = r\"D:\\hadoop\\Book2.csv\"\n",
    "data = load_and_preprocess(file_path)\n",
    "print(\"Preprocessed Data:\\n\", data.head())\n"
   ]
  },
  {
   "cell_type": "code",
   "execution_count": 28,
   "id": "9d041ffc",
   "metadata": {},
   "outputs": [
    {
     "name": "stdout",
     "output_type": "stream",
     "text": [
      "A* Search - Optimal Route: ['B', 'D']\n",
      "A* Search - Total Cost: 3\n"
     ]
    }
   ],
   "source": [
    "import heapq\n",
    "\n",
    "class AStarSearch:\n",
    "    def __init__(self, distances, traffic_conditions):\n",
    "        self.distances = distances\n",
    "        self.traffic_conditions = traffic_conditions\n",
    "\n",
    "    def heuristic(self, current, goal):\n",
    "        return abs(ord(current) - ord(goal))  # Simple heuristic for demonstration\n",
    "\n",
    "    def find_route(self, start, goal):\n",
    "        open_list = []\n",
    "        heapq.heappush(open_list, (0, start))\n",
    "        came_from = {}\n",
    "        g_score = {start: 0}\n",
    "        f_score = {start: self.heuristic(start, goal)}\n",
    "\n",
    "        while open_list:\n",
    "            _, current = heapq.heappop(open_list)\n",
    "\n",
    "            if current == goal:\n",
    "                route = []\n",
    "                while current in came_from:\n",
    "                    route.append(current)\n",
    "                    current = came_from[current]\n",
    "                route.reverse()\n",
    "                return route, g_score[goal]\n",
    "\n",
    "            for neighbor in self.distances[current]:\n",
    "                tentative_g_score = g_score[current] + self.distances[current][neighbor]\n",
    "                if tentative_g_score < g_score.get(neighbor, float('inf')):\n",
    "                    came_from[neighbor] = current\n",
    "                    g_score[neighbor] = tentative_g_score\n",
    "                    f_score[neighbor] = tentative_g_score + self.heuristic(neighbor, goal)\n",
    "                    if neighbor not in [i[1] for i in open_list]:\n",
    "                        heapq.heappush(open_list, (f_score[neighbor], neighbor))\n",
    "\n",
    "        return None, float('inf')\n",
    "\n",
    "# Example usage\n",
    "distances = {\n",
    "    'A': {'B': 2, 'C': 5},\n",
    "    'B': {'A': 2, 'C': 3, 'D': 1},\n",
    "    'C': {'A': 5, 'B': 3, 'D': 2},\n",
    "    'D': {'B': 1, 'C': 2}\n",
    "}\n",
    "traffic_conditions = {'A': 1, 'B': 2, 'C': 0, 'D': 1}\n",
    "\n",
    "astar = AStarSearch(distances, traffic_conditions)\n",
    "route, cost = astar.find_route('A', 'D')\n",
    "print(\"A* Search - Optimal Route:\", route)\n",
    "print(\"A* Search - Total Cost:\", cost)\n"
   ]
  },
  {
   "cell_type": "code",
   "execution_count": 29,
   "id": "1baa1b2c",
   "metadata": {},
   "outputs": [
    {
     "name": "stderr",
     "output_type": "stream",
     "text": [
      "C:\\Users\\m_god\\anaconda3\\Lib\\site-packages\\sklearn\\impute\\_base.py:555: UserWarning: Skipping features without any observed values: ['Previous Delivery Duration (min)' 'Estimated Travel Time (min)']. At least one non-missing value is needed for imputation with strategy='median'.\n",
      "  warnings.warn(\n"
     ]
    },
    {
     "name": "stdout",
     "output_type": "stream",
     "text": [
      "Traffic Conditions Prediction Accuracy: 74.12%\n"
     ]
    }
   ],
   "source": [
    "from sklearn.ensemble import RandomForestClassifier\n",
    "from sklearn.impute import SimpleImputer\n",
    "from sklearn.metrics import accuracy_score\n",
    "from sklearn.model_selection import train_test_split\n",
    "\n",
    "# Assuming 'data' is your dataset with features\n",
    "X = data[['Previous Delivery Duration (min)', 'Distance to Next Delivery (km)', \n",
    "          'Delivery Size (items)', 'Estimated Travel Time (min)', 'Road Closures']]\n",
    "y_traffic = data['Traffic Conditions']\n",
    "\n",
    "# Handle missing values in X\n",
    "imputer = SimpleImputer(strategy='median')  # Fill NaNs with the median of each column\n",
    "X = imputer.fit_transform(X)\n",
    "\n",
    "# Split the data into training and testing sets\n",
    "X_train, X_test, y_train, y_test = train_test_split(X, y_traffic, test_size=0.2, random_state=42)\n",
    "\n",
    "# Define the model and train\n",
    "clf = RandomForestClassifier(random_state=42)\n",
    "clf.fit(X_train, y_train)\n",
    "\n",
    "# Predict traffic conditions\n",
    "y_pred = clf.predict(X_test)\n",
    "\n",
    "# Calculate accuracy\n",
    "traffic_accuracy = accuracy_score(y_test, y_pred) * 100\n",
    "print(f\"Traffic Conditions Prediction Accuracy: {traffic_accuracy:.2f}%\")\n"
   ]
  },
  {
   "cell_type": "code",
   "execution_count": 31,
   "id": "3ce99cba",
   "metadata": {
    "scrolled": true
   },
   "outputs": [
    {
     "name": "stdout",
     "output_type": "stream",
     "text": [
      "MLP Regressor Results:\n",
      "Mean Absolute Error (MAE): 0.37\n",
      "Mean Squared Error (MSE): 0.43\n",
      "Root Mean Squared Error (RMSE): 0.66\n",
      "R-squared (R²): 0.04\n"
     ]
    }
   ],
   "source": [
    "from sklearn.neural_network import MLPRegressor\n",
    "from sklearn.preprocessing import StandardScaler\n",
    "from sklearn.metrics import mean_absolute_error, mean_squared_error, r2_score\n",
    "from sklearn.model_selection import train_test_split\n",
    "import numpy as np\n",
    "\n",
    "# Define target variable\n",
    "y_fuel = data['Fuel Consumption (L)']\n",
    "y_fuel.fillna(y_fuel.median(), inplace=True)  # Handle missing values\n",
    "\n",
    "# Scale the features\n",
    "scaler = StandardScaler()\n",
    "X_scaled = scaler.fit_transform(X)\n",
    "\n",
    "# Split the data\n",
    "X_train, X_test, y_train, y_test = train_test_split(X_scaled, y_fuel, test_size=0.2, random_state=42)\n",
    "\n",
    "# Define and train the MLP Regressor\n",
    "mlp = MLPRegressor(\n",
    "    hidden_layer_sizes=(100, 50, 25),\n",
    "    activation='relu',\n",
    "    solver='adam',\n",
    "    max_iter=1000,\n",
    "    learning_rate='adaptive',\n",
    "    random_state=42\n",
    ")\n",
    "mlp.fit(X_train, y_train)\n",
    "\n",
    "# Predict and evaluate\n",
    "y_pred = mlp.predict(X_test)\n",
    "\n",
    "fuel_mae = mean_absolute_error(y_test, y_pred)\n",
    "fuel_mse = mean_squared_error(y_test, y_pred)\n",
    "fuel_rmse = np.sqrt(fuel_mse)\n",
    "fuel_r2 = r2_score(y_test, y_pred)\n",
    "\n",
    "print(\"MLP Regressor Results:\")\n",
    "print(f\"Mean Absolute Error (MAE): {fuel_mae:.2f}\")\n",
    "print(f\"Mean Squared Error (MSE): {fuel_mse:.2f}\")\n",
    "print(f\"Root Mean Squared Error (RMSE): {fuel_rmse:.2f}\")\n",
    "print(f\"R-squared (R²): {fuel_r2:.2f}\")\n"
   ]
  },
  {
   "cell_type": "code",
   "execution_count": 32,
   "id": "c6a853b6",
   "metadata": {},
   "outputs": [
    {
     "name": "stdout",
     "output_type": "stream",
     "text": [
      "\n",
      "Predicted Traffic Conditions (Sample): [1 1 1 1 0]\n",
      "Predicted Fuel Consumption (Sample): [ 0.07412963  0.15964127 -0.00397078 -0.04620646 -0.33437482]\n",
      "Integration complete.\n"
     ]
    }
   ],
   "source": [
    "predicted_traffic = clf.predict(X_test)\n",
    "predicted_fuel = mlp.predict(X_test)\n",
    "\n",
    "print(\"\\nPredicted Traffic Conditions (Sample):\", predicted_traffic[:5])\n",
    "print(\"Predicted Fuel Consumption (Sample):\", predicted_fuel[:5])\n",
    "\n",
    "print(\"Integration complete.\")"
   ]
  },
  {
   "cell_type": "code",
   "execution_count": null,
   "id": "3615ee8a",
   "metadata": {},
   "outputs": [],
   "source": []
  }
 ],
 "metadata": {
  "kernelspec": {
   "display_name": "Python 3 (ipykernel)",
   "language": "python",
   "name": "python3"
  },
  "language_info": {
   "codemirror_mode": {
    "name": "ipython",
    "version": 3
   },
   "file_extension": ".py",
   "mimetype": "text/x-python",
   "name": "python",
   "nbconvert_exporter": "python",
   "pygments_lexer": "ipython3",
   "version": "3.11.5"
  }
 },
 "nbformat": 4,
 "nbformat_minor": 5
}
